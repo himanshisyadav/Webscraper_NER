{
 "cells": [
  {
   "cell_type": "markdown",
   "id": "2ca9491d",
   "metadata": {},
   "source": [
    "# Web-Scraping using Regular Expressions\n",
    "\n",
    "###  Steps \n",
    "1. Import packages\n",
    "2. Get the text data from webpages from years 2015 to 2023 for www.apartments.com using BeautifulSoup\n",
    "3. Remove HTML tags and clean the text data\n",
    "4. Use regular expressions to find address, bed range, price range and contact number for each rental property from years 2015 to 2023\n",
    "5. Convert extracted information to a Data Frame and save the Data Frame"
   ]
  },
  {
   "cell_type": "markdown",
   "id": "f54e87f1",
   "metadata": {},
   "source": [
    "## Step 1: Import Packages"
   ]
  },
  {
   "cell_type": "code",
   "execution_count": 1,
   "id": "8bba220d",
   "metadata": {},
   "outputs": [],
   "source": [
    "import requests\n",
    "import time\n",
    "import os\n",
    "import pandas as pd\n",
    "import numpy as np\n",
    "import random\n",
    "import re\n",
    "import regex\n",
    "from time import sleep\n",
    "from os import path\n",
    "from pandas import DataFrame\n",
    "from bs4 import BeautifulSoup\n",
    "from random import randint"
   ]
  },
  {
   "cell_type": "markdown",
   "id": "441b63f8",
   "metadata": {},
   "source": [
    "## Step 2 and 3 : Get the text data from webpages using BeautifulSoup and Remove HTML tags and clean the text data "
   ]
  },
  {
   "cell_type": "code",
   "execution_count": 2,
   "id": "9a168979",
   "metadata": {},
   "outputs": [],
   "source": [
    "def get_contents(soup, content_text):\n",
    "  try:\n",
    "    parents_blacklist=['[document]','html','head',\n",
    "                       'style','script','body',\n",
    "                       'section','tr',\n",
    "                       'td','label','ul','header',\n",
    "                       'aside']\n",
    "    content=''\n",
    "    text=soup.find_all(text=True)\n",
    "\n",
    "    \n",
    "    for t in text:\n",
    "        if t.parent.name not in parents_blacklist and len(t) > 5:\n",
    "            content=content+t+' '\n",
    "    content_text.append(content)\n",
    "  except Exception:\n",
    "    content_text.append('')\n",
    "    pass"
   ]
  },
  {
   "cell_type": "markdown",
   "id": "ac9989a3",
   "metadata": {},
   "source": [
    "## Step 4: Use regular expressions to find address, bed range, price range and contact number "
   ]
  },
  {
   "cell_type": "code",
   "execution_count": 3,
   "id": "7e8d04b1",
   "metadata": {},
   "outputs": [],
   "source": [
    "def localized(text):\n",
    "    contacts = r'\\(?[0-9]{3}\\)?\\/?\\.?-?\\s?[0-9]{3}-?\\.?-?\\s?[0-9]{4}\\b'\n",
    "    address = r'(?<!\\S)\\b([1-9][0-9]{,4}\\s*-\\s*)?[1-9][0-9]{,4} ([A-Za-z0-9&]*,?\\s*){,5} (Chicago|CHICAGO),?[\\w\\s,]{,3}\\s*[0-9]{,6}?\\b'\n",
    "    bed_range = r'((?<!\\S)\\b(Studio|[1-9])\\s*-\\s*[1-9]\\s*(Bed|Br|Beds|Bedrooms)\\b)'\n",
    "    prices = r'\\$[1-9]?[0-9]{,3},?[0-9]{,3}\\s*-\\s*\\$?[1-9]?[0-9]{,3},?[0-9]{,3}|\\$[1-9]?[0-9]{,3},?[0-9]{,3}$|Call for Rent\\b'\n",
    "    output_final = []\n",
    "    if re.search(address, text).groups() is not None:\n",
    "        for i in re.finditer(address, text):\n",
    "            property_info = {'Address': None, 'Price': None, 'Beds': None, 'Contact' : None}\n",
    "            count = 0\n",
    "            indexlocation= i.span()\n",
    "            startindex= i.start()\n",
    "            endindex= i.end()\n",
    "            if indexlocation[0] >= 0 and indexlocation[1] + 100 < len(text):\n",
    "                out = text[indexlocation[0]:indexlocation[1]+250] \n",
    "                address_words = (re.search(address, out).group()).split()\n",
    "                if re.search(address, out):\n",
    "                    property_info['Address'] = \" \".join(address_words[-6:])\n",
    "                    count += 1\n",
    "                if re.search(prices, out):\n",
    "                    property_info['Price'] = re.search(prices, out).group()\n",
    "                    count += 1\n",
    "                if re.search(bed_range,out):\n",
    "                    property_info['Beds'] = re.search(bed_range, out).group()\n",
    "                    count += 1\n",
    "                if re.search(contacts,out):\n",
    "                    property_info['Contact'] = re.search(contacts, out).group()\n",
    "                    count += 1\n",
    "                if count > 2:\n",
    "                    output_final.append(property_info)\n",
    "        merged = pd.DataFrame(output_final)\n",
    "        print(merged)\n",
    "        return merged\n",
    "    else:\n",
    "        print(\"Pattern Doesn't Match\")\n",
    "        return None\n",
    "        "
   ]
  },
  {
   "cell_type": "markdown",
   "id": "7913e140",
   "metadata": {},
   "source": [
    "## Step 5: Convert extracted information to a Data Frame and save the Data Frame"
   ]
  },
  {
   "cell_type": "code",
   "execution_count": 5,
   "id": "fa70c1d2",
   "metadata": {},
   "outputs": [
    {
     "name": "stdout",
     "output_type": "stream",
     "text": [
      "                               Address            Price             Beds  \\\n",
      "0      1457 N Halsted St, Chicago, IL    $2,308 - 5,936  Studio - 2 Beds   \n",
      "1          234 W Polk St, Chicago, IL    $2,170 - 5,355  Studio - 3 Beds   \n",
      "2     5630 N Sheridan Rd, Chicago, IL    $1,130 - 1,550   Studio - 1 Bed   \n",
      "3       930 W Altgeld St, Chicago, IL   $2,080 - 14,700  Studio - 3 Beds   \n",
      "4     5252 S Cornell Ave, Chicago, IL    $2,485 - 9,853  Studio - 3 Beds   \n",
      "5    1950 N Campbell Ave, Chicago, IL    $2,400 - 3,900         1-2 Beds   \n",
      "6      121 W Chestnut St, Chicago, IL   $2,081 - 11,979  Studio - 3 Beds   \n",
      "7      1210 N State Pkwy, Chicago, IL    $2,990 - 6,423  Studio - 2 Beds   \n",
      "8   340 E North Water St, Chicago, IL   $2,175 - 11,882  Studio - 3 Beds   \n",
      "9          11 S Green St, Chicago, IL    $2,103 - 8,701  Studio - 2 Beds   \n",
      "10  2552 N Milwaukee Ave, Chicago, IL    $2,008 - 4,620  Studio - 2 Beds   \n",
      "11          8 E Huron St, Chicago, IL    $2,580 - 7,045         1-3 Beds   \n",
      "12          205 S Peoria, Chicago, IL    $2,217 - 5,137  Studio - 2 Beds   \n",
      "13      747 N Wabash Ave, Chicago, IL    $2,209 - 5,832  Studio - 2 Beds   \n",
      "14        833 N Clark St, Chicago, IL   $2,581 - 17,000  Studio - 3 Beds   \n",
      "15        808 N Wells St, Chicago, IL    $1,979 - 6,009  Studio - 2 Beds   \n",
      "16     166 N Aberdeen St, Chicago, IL    $2,295 - 9,745  Studio - 3 Beds   \n",
      "17     1935 S Wabash Ave, Chicago, IL    $2,415 - 4,495         1-2 Beds   \n",
      "18    840 W Blackhawk St, Chicago, IL    $2,285 - 4,185  Studio - 2 Beds   \n",
      "19         465 N Park Dr, Chicago, IL   $2,441 - 21,892  Studio - 3 Beds   \n",
      "20     200 E Illinois St, Chicago, IL    $2,476 - 9,219         1-3 Beds   \n",
      "21         345 E Ohio St, Chicago, IL    $2,085 - 6,740  Studio - 3 Beds   \n",
      "22    2345 N Lincoln Ave, Chicago, IL    $2,510 - 7,962  Studio - 3 Beds   \n",
      "\n",
      "           Contact  \n",
      "0   (708) 919-2291  \n",
      "1   (855) 647-4540  \n",
      "2   (224) 344-1827  \n",
      "3   (708) 512-8807  \n",
      "4   (219) 600-3503  \n",
      "5   (224) 442-8203  \n",
      "6   (708) 775-3701  \n",
      "7   (708) 683-3938  \n",
      "8   (708) 329-0750  \n",
      "9   (708) 303-6734  \n",
      "10  (708) 938-3337  \n",
      "11  (708) 393-2727  \n",
      "12  (708) 775-3278  \n",
      "13  (708) 775-2468  \n",
      "14  (708) 665-2652  \n",
      "15  (708) 919-3074  \n",
      "16  (708) 393-8249  \n",
      "17  (708) 919-2774  \n",
      "18  (708) 303-7522  \n",
      "19  (708) 725-1453  \n",
      "20  (708) 665-2628  \n",
      "21  (708) 303-7718  \n",
      "22  (224) 998-0053  \n"
     ]
    }
   ],
   "source": [
    "links_df = pd.read_csv(\"results/links.csv\")\n",
    "for i, row in links_df.iterrows():\n",
    "    webpage = row['Links']\n",
    "    stamp = webpage[28:42]\n",
    "    print(webpage, stamp)\n",
    "    page=requests.get(webpage)\n",
    "    soup=BeautifulSoup(page.text,'html.parser')\n",
    "    content_text = []\n",
    "    get_contents(soup, content_text)\n",
    "    output_df = localized(content_text[0])\n",
    "    file_name = \"results_4/\" + stamp + \".csv\"\n",
    "    output_df.to_csv(file_name)\n",
    "    print(\"Saved to \", file_name)"
   ]
  },
  {
   "cell_type": "code",
   "execution_count": null,
   "id": "2c17e3a4",
   "metadata": {},
   "outputs": [],
   "source": []
  }
 ],
 "metadata": {
  "kernelspec": {
   "display_name": "webscraper_venv",
   "language": "python",
   "name": "webscraper_venv"
  },
  "language_info": {
   "codemirror_mode": {
    "name": "ipython",
    "version": 3
   },
   "file_extension": ".py",
   "mimetype": "text/x-python",
   "name": "python",
   "nbconvert_exporter": "python",
   "pygments_lexer": "ipython3",
   "version": "3.10.4"
  }
 },
 "nbformat": 4,
 "nbformat_minor": 5
}
